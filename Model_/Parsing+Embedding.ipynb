{
 "cells": [
  {
   "cell_type": "code",
   "execution_count": 1,
   "id": "21f93190-6ca7-4288-a20d-a160992f8f2d",
   "metadata": {},
   "outputs": [
    {
     "ename": "ModuleNotFoundError",
     "evalue": "No module named 'pypdf'",
     "output_type": "error",
     "traceback": [
      "\u001b[1;31m---------------------------------------------------------------------------\u001b[0m",
      "\u001b[1;31mModuleNotFoundError\u001b[0m                       Traceback (most recent call last)",
      "Cell \u001b[1;32mIn[1], line 3\u001b[0m\n\u001b[0;32m      1\u001b[0m \u001b[38;5;28;01mimport\u001b[39;00m \u001b[38;5;21;01mos\u001b[39;00m\n\u001b[0;32m      2\u001b[0m \u001b[38;5;28;01mimport\u001b[39;00m \u001b[38;5;21;01mtime\u001b[39;00m\n\u001b[1;32m----> 3\u001b[0m \u001b[38;5;28;01mfrom\u001b[39;00m \u001b[38;5;21;01mpypdf\u001b[39;00m \u001b[38;5;28;01mimport\u001b[39;00m PdfReader\n\u001b[0;32m      4\u001b[0m \u001b[38;5;28;01mimport\u001b[39;00m \u001b[38;5;21;01mcamelot\u001b[39;00m\n\u001b[0;32m      5\u001b[0m \u001b[38;5;28;01mimport\u001b[39;00m \u001b[38;5;21;01mchromadb\u001b[39;00m\n",
      "\u001b[1;31mModuleNotFoundError\u001b[0m: No module named 'pypdf'"
     ]
    }
   ],
   "source": [
    "import os\n",
    "import time\n",
    "from pypdf import PdfReader\n",
    "import camelot\n",
    "import chromadb\n",
    "from chromadb.config import Settings\n",
    "import google.generativeai as genai\n",
    "from google.api_core.exceptions import ResourceExhausted\n",
    "from google.cloud import storage  # for optional GCS upload\n",
    "from tiktoken import get_encoding\n",
    "from chromadb import PersistentClient\n",
    "\n",
    "PDF_PATH = \"ltimindtree_annual_report.pdf\"\n",
    "CHROMA_DIR = \"./chromadb_dir\"\n",
    "GCS_BUCKET_NAME = os.getenv(\"GCS_BUCKET_NAME\")\n",
    "GOOGLE_API_KEY = os.getenv(\"GOOGLE_API_KEY\")\n",
    "if not GOOGLE_API_KEY:\n",
    "    GOOGLE_API_KEY = \"\"\n",
    "GENIE_MODEL = \"gemini-embedding-exp-03-07\"\n",
    "BATCH_SIZE = 32\n",
    "CHUNK_TOKENS = 800"
   ]
  },
  {
   "cell_type": "code",
   "execution_count": null,
   "id": "8bd3425a-f88c-44e2-a527-ff3d25b4a8fb",
   "metadata": {},
   "outputs": [],
   "source": [
    "reader = PdfReader(PDF_PATH)\n",
    "raw_pages = [p.extract_text() for p in reader.pages]"
   ]
  },
  {
   "cell_type": "code",
   "execution_count": null,
   "id": "333b8916-ae53-4df0-91a7-5e5dd7f02c92",
   "metadata": {},
   "outputs": [],
   "source": [
    "enc = get_encoding(\"cl100k_base\")\n",
    "chunks, metadatas = [], []\n",
    "for page_num, page in enumerate(raw_pages, start=1):\n",
    "    token_ids = enc.encode(page)\n",
    "    for idx in range(0, len(token_ids), CHUNK_TOKENS):\n",
    "        chunk = enc.decode(token_ids[idx : idx + CHUNK_TOKENS])\n",
    "        chunks.append(chunk)\n",
    "        metadatas.append({\"page\": page_num, \"chunk_id\": idx // CHUNK_TOKENS})"
   ]
  },
  {
   "cell_type": "code",
   "execution_count": null,
   "id": "b605c753-a7cf-4086-9803-43508cf0a8f3",
   "metadata": {},
   "outputs": [
    {
     "name": "stderr",
     "output_type": "stream",
     "text": [
      "/opt/homebrew/Cellar/jupyterlab/4.3.4_1/libexec/lib/python3.13/site-packages/google/auth/_default.py:76: UserWarning: Your application has authenticated using end user credentials from Google Cloud SDK without a quota project. You might receive a \"quota exceeded\" or \"API not enabled\" error. See the following page for troubleshooting: https://cloud.google.com/docs/authentication/adc-troubleshooting/user-creds. \n",
      "  warnings.warn(_CLOUD_SDK_CREDENTIALS_WARNING)\n"
     ]
    }
   ],
   "source": [
    "genai.configure(api_key=GOOGLE_API_KEY)\n",
    "storage_client = storage.Client(\n",
    "    project=os.getenv(\"HACKAI_GCS_PROJECT\")\n",
    ")"
   ]
  },
  {
   "cell_type": "code",
   "execution_count": null,
   "id": "8c1185cf-342b-47fd-9563-9a7d459ce6c4",
   "metadata": {},
   "outputs": [],
   "source": [
    "embeddings = []\n",
    "for i in range(0, len(chunks), BATCH_SIZE):\n",
    "    batch = chunks[i : i + BATCH_SIZE]\n",
    "    while True:\n",
    "        try:\n",
    "            resp = genai.embed_content(model=GENIE_MODEL, content=batch)\n",
    "            batch_embs = resp.get(\"embeddings\") or resp.get(\"embedding\")\n",
    "            embeddings.extend(batch_embs)\n",
    "            break\n",
    "        except ResourceExhausted:\n",
    "            print(\"Quota hit—sleeping 60s…\")\n",
    "            time.sleep(60)\n",
    "    time.sleep(1.0)\n"
   ]
  },
  {
   "cell_type": "code",
   "execution_count": null,
   "id": "eadb994a-d7f8-4d6c-b17d-6229cbf041b2",
   "metadata": {},
   "outputs": [
    {
     "data": {
      "text/plain": [
       "46"
      ]
     },
     "execution_count": 8,
     "metadata": {},
     "output_type": "execute_result"
    }
   ],
   "source": [
    "len(chunks)"
   ]
  },
  {
   "cell_type": "code",
   "execution_count": null,
   "id": "d11bc421-f796-45bd-96fd-54e608f977ee",
   "metadata": {},
   "outputs": [],
   "source": [
    "client = PersistentClient(path=CHROMA_DIR)\n",
    "# Create or get collection in one step\n",
    "collection = client.get_or_create_collection(\n",
    "    name=\"annual_report\",\n",
    "    metadata={\"hnsw:space\": \"cosine\"}\n",
    ")\n",
    "# Add documents\n",
    "for idx, (chunk, emb, meta) in enumerate(zip(chunks, embeddings, metadatas)):\n",
    "    collection.add(\n",
    "        ids=[str(idx)],\n",
    "        documents=[chunk],\n",
    "        embeddings=[emb],\n",
    "        metadatas=[meta]\n",
    "    )\n"
   ]
  },
  {
   "cell_type": "code",
   "execution_count": null,
   "id": "f6761baf-78b4-4b59-9a85-bcc6da5553d7",
   "metadata": {},
   "outputs": [],
   "source": [
    "def upload_dir_to_gcs(local_dir: str, bucket_name: str, gcs_prefix: str = \"chromadb\"):\n",
    "    bucket = storage_client.bucket(bucket_name)\n",
    "    for root, _, files in os.walk(local_dir):\n",
    "        for fname in files:\n",
    "            local_path = os.path.join(root, fname)\n",
    "            rel_path = os.path.relpath(local_path, local_dir)\n",
    "            blob_path = f\"{gcs_prefix}/{rel_path}\"\n",
    "            blob = bucket.blob(blob_path)\n",
    "            blob.upload_from_filename(local_path)\n",
    "            print(f\"Uploaded {local_path} to gs://{bucket_name}/{blob_path}\")\n",
    "\n",
    "if GCS_BUCKET_NAME:\n",
    "    upload_dir_to_gcs(CHROMA_DIR, GCS_BUCKET_NAME)"
   ]
  },
  {
   "cell_type": "code",
   "execution_count": null,
   "id": "59875da1-3dc6-436c-8cc5-149a23b4e1fc",
   "metadata": {},
   "outputs": [],
   "source": [
    "tables = camelot.read_pdf(PDF_PATH, pages=\"all\", flavor=\"stream\")\n",
    "table_dict = {f\"table_{i+1}\": t.df for i, t in enumerate(tables)}"
   ]
  },
  {
   "cell_type": "code",
   "execution_count": null,
   "id": "bdc6e8de-9114-41fd-857a-e91af4501c27",
   "metadata": {},
   "outputs": [
    {
     "name": "stderr",
     "output_type": "stream",
     "text": [
      "/opt/homebrew/Cellar/jupyterlab/4.3.4_1/libexec/lib/python3.13/site-packages/google/auth/_default.py:76: UserWarning: Your application has authenticated using end user credentials from Google Cloud SDK without a quota project. You might receive a \"quota exceeded\" or \"API not enabled\" error. See the following page for troubleshooting: https://cloud.google.com/docs/authentication/adc-troubleshooting/user-creds. \n",
      "  warnings.warn(_CLOUD_SDK_CREDENTIALS_WARNING)\n"
     ]
    },
    {
     "name": "stdout",
     "output_type": "stream",
     "text": [
      "Uploaded ./chromadb_dir/chroma.sqlite3 → gs://report-vectors/chromadb/chroma.sqlite3\n",
      "Uploaded ./chromadb_dir/423f205e-9cd3-4efc-ade2-fb98896d2ce0/data_level0.bin → gs://report-vectors/chromadb/423f205e-9cd3-4efc-ade2-fb98896d2ce0/data_level0.bin\n",
      "Uploaded ./chromadb_dir/423f205e-9cd3-4efc-ade2-fb98896d2ce0/length.bin → gs://report-vectors/chromadb/423f205e-9cd3-4efc-ade2-fb98896d2ce0/length.bin\n",
      "Uploaded ./chromadb_dir/423f205e-9cd3-4efc-ade2-fb98896d2ce0/link_lists.bin → gs://report-vectors/chromadb/423f205e-9cd3-4efc-ade2-fb98896d2ce0/link_lists.bin\n",
      "Uploaded ./chromadb_dir/423f205e-9cd3-4efc-ade2-fb98896d2ce0/header.bin → gs://report-vectors/chromadb/423f205e-9cd3-4efc-ade2-fb98896d2ce0/header.bin\n"
     ]
    }
   ],
   "source": [
    "# (Re‑define or import the function if needed)\n",
    "\n",
    "def upload_dir_to_gcs(local_dir: str, bucket_name: str, gcs_prefix: str = \"chromadb\"):\n",
    "    from google.cloud import storage\n",
    "    client = storage.Client(project=os.getenv(\"HACKAI_GCS_PROJECT\"))\n",
    "    bucket = client.bucket(bucket_name)\n",
    "    for root, _, files in os.walk(local_dir):\n",
    "        for fname in files:\n",
    "            local_path = os.path.join(root, fname)\n",
    "            rel_path   = os.path.relpath(local_path, local_dir)\n",
    "            blob_path  = f\"{gcs_prefix}/{rel_path}\"\n",
    "            bucket.blob(blob_path).upload_from_filename(local_path)\n",
    "            print(f\"Uploaded {local_path} → gs://{bucket_name}/{blob_path}\")\n",
    "\n",
    "# Call it:\n",
    "upload_dir_to_gcs(\"./chromadb_dir\", \"report-vectors\")\n"
   ]
  },
  {
   "cell_type": "code",
   "execution_count": null,
   "id": "22c2d88a-2e94-418c-bd24-3e2bb6e24a7b",
   "metadata": {},
   "outputs": [],
   "source": []
  }
 ],
 "metadata": {
  "kernelspec": {
   "display_name": "tf",
   "language": "python",
   "name": "python3"
  },
  "language_info": {
   "codemirror_mode": {
    "name": "ipython",
    "version": 3
   },
   "file_extension": ".py",
   "mimetype": "text/x-python",
   "name": "python",
   "nbconvert_exporter": "python",
   "pygments_lexer": "ipython3",
   "version": "3.9.21"
  }
 },
 "nbformat": 4,
 "nbformat_minor": 5
}
